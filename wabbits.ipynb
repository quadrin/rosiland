{
 "cells": [
  {
   "cell_type": "code",
   "execution_count": 136,
   "metadata": {},
   "outputs": [],
   "source": [
    "# Program to display the Fibonacci sequence up to n-th term\n",
    "def fib(months, mult):\n",
    "    m = 1\n",
    "    n=1\n",
    "    n_prior = 0\n",
    "    nth = 0\n",
    "    while m < (months):\n",
    "        nth = n + 3*n_prior\n",
    "        n_prior = n\n",
    "        n = nth\n",
    "        m+=1\n",
    "        \n",
    "    return n"
   ]
  },
  {
   "cell_type": "code",
   "execution_count": 138,
   "metadata": {},
   "outputs": [
    {
     "name": "stdout",
     "output_type": "stream",
     "text": [
      "1\n",
      "4\n",
      "7\n",
      "19\n",
      "40\n",
      "97\n",
      "217\n",
      "508\n",
      "1159\n",
      "2683\n",
      "6160\n",
      "14209\n",
      "32689\n",
      "75316\n",
      "173383\n",
      "399331\n",
      "919480\n",
      "2117473\n",
      "4875913\n",
      "11228332\n",
      "25856071\n",
      "59541067\n",
      "137109280\n",
      "315732481\n",
      "727060321\n",
      "1674257764\n",
      "3855438727\n",
      "8878212019\n",
      "20444528200\n",
      "47079164257\n",
      "108412748857\n",
      "249650241628\n",
      "574888488199\n",
      "1323839213083\n",
      "3048504677680\n"
     ]
    },
    {
     "data": {
      "text/plain": [
       "3048504677680"
      ]
     },
     "execution_count": 138,
     "metadata": {},
     "output_type": "execute_result"
    }
   ],
   "source": [
    "fib(36,3)"
   ]
  },
  {
   "cell_type": "code",
   "execution_count": null,
   "metadata": {},
   "outputs": [],
   "source": []
  }
 ],
 "metadata": {
  "kernelspec": {
   "display_name": "Python 3",
   "language": "python",
   "name": "python3"
  },
  "language_info": {
   "codemirror_mode": {
    "name": "ipython",
    "version": 3
   },
   "file_extension": ".py",
   "mimetype": "text/x-python",
   "name": "python",
   "nbconvert_exporter": "python",
   "pygments_lexer": "ipython3",
   "version": "3.7.6"
  }
 },
 "nbformat": 4,
 "nbformat_minor": 4
}
