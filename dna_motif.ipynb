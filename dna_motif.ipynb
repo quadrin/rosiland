{
 "cells": [
  {
   "cell_type": "code",
   "execution_count": 30,
   "metadata": {},
   "outputs": [],
   "source": [
    "def dna_motif(string, substring):\n",
    "    start_list = []\n",
    "    start_string = \" \"\n",
    "    for i in range(len(string)):\n",
    "        if string[i:(i+len(substring))] == substring:\n",
    "            start_list.append(i)    \n",
    "    \n",
    "    for i in start_list:\n",
    "        start_string += \" \" + str(i+1)\n",
    "    \n",
    "    return start_string"
   ]
  },
  {
   "cell_type": "code",
   "execution_count": 32,
   "metadata": {},
   "outputs": [
    {
     "data": {
      "text/plain": [
       "'  16 29 36 69 84 99 124 176 193 230 246 264 298 366 373 408 415 426 464 471 478 561 587 627 634 641 648 699 728 735 753 803 810 866 873 902'"
      ]
     },
     "execution_count": 32,
     "metadata": {},
     "output_type": "execute_result"
    }
   ],
   "source": [
    "dna_motif(\"ACGTTGCGCTTCATAGTTGCGCGTCAGAGTTGCGCGTTGCGCGTTGCGCAGTTGCGCCTGTTGCGCACGTTGCGCGTTGCGCAGTTGCGCGTTGCGCGGTTGCGCGTTGCGCACGTTGCGCTTGTTGCGCGTTGCGCTCTGTTGCGCTCAAAGTTGCGCATCGGTGGTTGCGCCGGTTGCGCGTTGCGCCCAGTTGCGCGTTGCGCATGTTGCGCACTGTTGCGCGCGAGTTGCGCGTTGCGCCGGTTGCGCGTTGCGCCGCTGTTGCGCGTTGCGCGGCGTTGCGCGGGTTGCGCCGTTGCGCGTTACCCGCGAAGTTGCGCCCAGACGTTGCGCTGATGTTGCGCAGTTGCGCTGGTTGCGCCGTTGCGCGTTGCGCGTTGCGCGGTTGCGCGCGCGTTGCGCAAGTTGCGCGTTGCGCGTGGGTTGCGCGTTGCGCTCAGTTGCGCCGTTGCGCGGGTAAGTTGCGCGTTGCGCGTTGCGCGTTGCGCTGTTGCGCCGTTGCGCATGTTGCGCGAGTTGCGCGGGTTGCGCAGTTGCGCGCGGTTGCGCAACGCTTAGTTGCGCGTTGCGCCTGTTGCGCGAAGTTGCGCGTGTTGCGCGGTTGCGCAGCAGTCTGTTGCGCTGTTGCGCGTTGCGCGTTGCGCGTTGCGCGTTGCGCGGTTGCGCAGCGTTGCGCCGGTTGCGCAGTTGCGCCGGTTGCGCGTTGCGCCGTTGCGCCTCAAACGTTGCGCGTTGCGCGTTGCGCGGGTGTTGCGCGTTGCGCTGGGGTTGCGCCTACGGGTTGCGCGGTTGCGCACGAGTTGCGCGTTGCGCGTTGCGCCGTTGCGCACCCGGTTGCGCATGTTGCGCACGTTGCGCACGTGTTGCGCGTTGCGCGTTGCGCTGTTGCGCAGAGCCTGTTGCGCGTTGCGCGAGTTGCGCACGTTGCGC\", \"GTTGCGCGT\")"
   ]
  }
 ],
 "metadata": {
  "kernelspec": {
   "display_name": "Python 3",
   "language": "python",
   "name": "python3"
  },
  "language_info": {
   "codemirror_mode": {
    "name": "ipython",
    "version": 3
   },
   "file_extension": ".py",
   "mimetype": "text/x-python",
   "name": "python",
   "nbconvert_exporter": "python",
   "pygments_lexer": "ipython3",
   "version": "3.7.6"
  }
 },
 "nbformat": 4,
 "nbformat_minor": 4
}
