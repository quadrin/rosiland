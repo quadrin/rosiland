{
 "cells": [
  {
   "cell_type": "code",
   "execution_count": 133,
   "metadata": {},
   "outputs": [],
   "source": [
    "def probable_dom(dom,hetero,rec):\n",
    "    #finding probability of choosing dom and dom again\n",
    "    dom_dom = (dom/(hetero+dom+rec)) * ((dom-1)/(hetero+dom+rec-1))\n",
    "    #finding probability of choosing hetero and hetero again\n",
    "    hetero_hetero = (hetero/(hetero+dom+rec)) * ((hetero-1)/(hetero+dom+rec-1))\n",
    "    #finding probability of choosing dom and then hetero\n",
    "    dom_hetero = (dom/(hetero+dom+rec)) * ((hetero)/(hetero+dom+rec-1))\n",
    "    #finding probability of choosing hetero and then dom\n",
    "    hetero_dom = (hetero/(hetero+dom+rec)) * ((dom)/(hetero+dom+rec-1))\n",
    "    #finding probability of choosing recessive and recessive again\n",
    "    rec_rec = (rec/(hetero+dom+rec)) * ((rec-1)/(hetero+dom+rec-1))\n",
    "    #finding probability of choosing recessive and then hetero\n",
    "    rec_hetero = (rec/(hetero+dom+rec)) * ((hetero)/(hetero+dom+rec-1))\n",
    "    #finding probability of choosing hetero and then recessive\n",
    "    hetero_rec = (hetero/(hetero+dom+rec)) * ((rec)/(hetero+dom+rec-1))\n",
    "    #finding probability of choosing dom and then rec\n",
    "    dom_rec = (dom/(hetero+dom+rec)) * ((rec)/(hetero+dom+rec-1))\n",
    "    #finding probability of choosing rec and then dom\n",
    "    rec_dom = (rec/(hetero+dom+rec)) * ((dom)/(hetero+dom+rec-1))\n",
    "    \n",
    "    #summing all possible domprobabilities, multiplying by respective individual prob. being dom, divide by total sum prob.\n",
    "    return (dom_dom + dom_hetero + hetero_dom + (hetero_hetero*.75)  + (rec_hetero*.5) + (hetero_rec*.5) + dom_rec +rec_dom)/(dom_dom +  \n",
    "    dom_hetero + hetero_dom + (hetero_hetero) + (rec_hetero) + (hetero_rec) + rec_rec + dom_rec + rec_dom)\n"
   ]
  },
  {
   "cell_type": "code",
   "execution_count": 135,
   "metadata": {},
   "outputs": [
    {
     "data": {
      "text/plain": [
       "0.8169993950393226"
      ]
     },
     "execution_count": 135,
     "metadata": {},
     "output_type": "execute_result"
    }
   ],
   "source": [
    "probable_dom(23, 20, 15)"
   ]
  },
  {
   "cell_type": "code",
   "execution_count": null,
   "metadata": {},
   "outputs": [],
   "source": []
  }
 ],
 "metadata": {
  "kernelspec": {
   "display_name": "Python 3",
   "language": "python",
   "name": "python3"
  },
  "language_info": {
   "codemirror_mode": {
    "name": "ipython",
    "version": 3
   },
   "file_extension": ".py",
   "mimetype": "text/x-python",
   "name": "python",
   "nbconvert_exporter": "python",
   "pygments_lexer": "ipython3",
   "version": "3.7.6"
  }
 },
 "nbformat": 4,
 "nbformat_minor": 4
}
