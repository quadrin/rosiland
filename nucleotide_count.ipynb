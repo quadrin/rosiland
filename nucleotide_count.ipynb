{
 "cells": [
  {
   "cell_type": "code",
   "execution_count": 18,
   "metadata": {},
   "outputs": [],
   "source": [
    "string = \"TGAAGCGGCAACAATAGTACTATCGCGATCATCCGTTCGGGCACTTCCGAGTCCCCCTAATCCCGGGCCTCTCTTAGCCCTTAGTGTGGGTGCGAGAAGAATAGTTGGGGGGATATCATGCGTAGCGTATTAGCCCATGCTCCTTATCATCAATGTTATTTTGTGGCCGGGTTCGATTAATCGAGACATATGAATGAGCTTCGCCCTGAGTGGGACACACTGCATGTCAAGTGTTTGCAATGGTACTCTCCACCCAGCGTGTGTACTGGGATTTTCTCTGTACTCCTCGGGTCTTACGTGTAAGAATAGTACGTACATTTGTTTCGTTTGGTAACCGGCTCCTGGTTAAGATATATACATAAATACTTATGGTCTACTGAAATACCCCAGACTGAGTATATCAAATGCAAGTAGGTCTCTTGTTGGTGGTGTCGGCCCTCGCCTTAACTGAGATTCGCTAAGCTACCTTGGGCTTAGAAGCTTGGGTCGACTTAGTCATTTCACCTCCGTGTAGGGAGACGATTCGGCCGAGCACAGCATTGGCGGCTAGATAACTGCTTATGATCAACCCAGTCATGACAATTTACCTGCTCTTAGTCCAAGCACCTTATGCCAGAAATCGGTCGCAGACCCCTGTTGGTGATTGCCCACGCAGAACTGAAGCGTACGTGCAGCTGGTTGGGATCAACAGCTCGTGGAGGAGTGGAGCTCACACCGTACCGTCCAGTGAAAAGGGGTGGGCGGATAAAGTTACGTCTAAATAGGCGATGAAAGAACGGCCGCAATTAATGTCCGTCCCTGTTGCGGGGCACGCGAAGGTATTGTCATTCTTCGTTAGAATTATAGCGTGCTCATCCTGGGTACTCAGACTGCAGTAGCTGCCGATCACGCGCTAAATACCTG\""
   ]
  },
  {
   "cell_type": "code",
   "execution_count": 8,
   "metadata": {},
   "outputs": [],
   "source": [
    "def split(word):\n",
    "    return [char for char in word]"
   ]
  },
  {
   "cell_type": "code",
   "execution_count": 19,
   "metadata": {},
   "outputs": [],
   "source": [
    "string_list = split(string)"
   ]
  },
  {
   "cell_type": "code",
   "execution_count": 20,
   "metadata": {},
   "outputs": [],
   "source": [
    "t_amount = string_list.count('T')\n",
    "g_amount = string_list.count('G')\n",
    "a_amount = string_list.count('A')\n",
    "c_amount = string_list.count('C')"
   ]
  },
  {
   "cell_type": "code",
   "execution_count": 21,
   "metadata": {},
   "outputs": [
    {
     "name": "stdout",
     "output_type": "stream",
     "text": [
      "211 214 234 244\n"
     ]
    }
   ],
   "source": [
    "print(a_amount, c_amount, g_amount, t_amount)"
   ]
  },
  {
   "cell_type": "code",
   "execution_count": null,
   "metadata": {},
   "outputs": [],
   "source": []
  }
 ],
 "metadata": {
  "kernelspec": {
   "display_name": "Python 3",
   "language": "python",
   "name": "python3"
  },
  "language_info": {
   "codemirror_mode": {
    "name": "ipython",
    "version": 3
   },
   "file_extension": ".py",
   "mimetype": "text/x-python",
   "name": "python",
   "nbconvert_exporter": "python",
   "pygments_lexer": "ipython3",
   "version": "3.7.6"
  }
 },
 "nbformat": 4,
 "nbformat_minor": 4
}
